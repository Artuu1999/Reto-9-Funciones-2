{
 "cells": [
  {
   "cell_type": "code",
   "execution_count": 2,
   "metadata": {},
   "outputs": [
    {
     "name": "stdout",
     "output_type": "stream",
     "text": [
      "El area de la figura es 76.54866776461628 centímetros\n",
      "El perímetro de la figura es 55.69911184307752 centímetros\n"
     ]
    }
   ],
   "source": [
    "from math import pi, sqrt #Se importa la función math para utilizar el número pi\n",
    "#Se hace uso de la función main\n",
    "if __name__ == \"__main__\":\n",
    "  #Se solicita al usuario que ingrese las variables que se usaran dentro de la función\n",
    "  radioCirculo = float(input(\"Ingrese el radio del círculo en cm:\"))\n",
    "  altura = float(input(\"Ingrese la altura del rectángulo en cm:\"))\n",
    "  base = float(input(\"Ingrese la base del rectángulo en cm:\"))\n",
    "  #Se define la función en una sola línea llamando las variables de uso\n",
    "  areaFigura = lambda radioCirculo, altura, base: pi * radioCirculo**2 * 2 + base * altura\n",
    "  area = areaFigura(radioCirculo, altura, base)\n",
    "  # Se define la función en una sola línea llamando las variables de uso\n",
    "  perimetroFigura = lambda radioCirculo, altura, base: 2 * 2 * pi * radioCirculo + (altura * 2) + (base * 2)\n",
    "  perimetro = perimetroFigura(radioCirculo, altura, base)\n",
    "  #Se imprimen los resultados trabajados en las funciones\n",
    "  print (\"El area de la figura es \"+str(area)+\" centímetros\")\n",
    "  print ( \"El perímetro de la figura es \"+ str(perimetro)+\" centímetros\")"
   ]
  },
  {
   "cell_type": "code",
   "execution_count": 3,
   "metadata": {},
   "outputs": [
    {
     "name": "stdout",
     "output_type": "stream",
     "text": [
      "La cantidad de personas contagiadas transcurridos 4 días, es de 48 personas\n"
     ]
    }
   ],
   "source": [
    "if __name__ == \"__main__\":\n",
    "  #Se solicita al usuario el ingreso de las variables tipo entero\n",
    "  C = int(input(\"Ingrese la cantidad de personas contagiadas actualmente:\"))\n",
    "  D = int(input(\"Ingrese los días transcurridos:\"))\n",
    "  #Se define la función en una sola línea de código haciendo uso del lambda\n",
    "  totalPersonasContagiadasNuncalandia = lambda C, D: C * (2**D)\n",
    "  Total = totalPersonasContagiadasNuncalandia(C, D)\n",
    "  #Se imprime el resultado de la función\n",
    "  print(\"La cantidad de personas contagiadas transcurridos \"+str(D)+\" días, es de \"+ str(Total)+\" personas\")"
   ]
  },
  {
   "cell_type": "code",
   "execution_count": 8,
   "metadata": {},
   "outputs": [
    {
     "name": "stdout",
     "output_type": "stream",
     "text": [
      "El resultado de 2 elevado a la 3 es 8\n"
     ]
    }
   ],
   "source": [
    "if __name__ == \"__main__\":\n",
    " n = int(input(\"Ingrese numero natural: \")) #Solicitar el ingreso de la potencia\n",
    " dosElevado = lambda n: 2**n #Se define la función elevando 2 a la n\n",
    " potencia = dosElevado (n) #Se  llama la función definida anteriormente\n",
    " print (\"El resultado de 2 elevado a la \"+str(n)+\" es \"+str(potencia)+\"\") #Imprimir el resultado"
   ]
  },
  {
   "cell_type": "code",
   "execution_count": 22,
   "metadata": {},
   "outputs": [
    {
     "name": "stdout",
     "output_type": "stream",
     "text": [
      "la base 8 elevada al exponente 2 da como resultado 64\n"
     ]
    }
   ],
   "source": [
    "#Definir la función con las variables\n",
    "def potencia(n: int, x: int) -> int:\n",
    "    #Usar el caso base del 0\n",
    "    if x == 0:\n",
    "        return 1\n",
    "    #Usar el caso de una base elevada a un número\n",
    "    elif x == 1:\n",
    "        return n\n",
    "    #Declarar el resto de casos\n",
    "    else:\n",
    "        return n * potencia(base, x - 1)\n",
    "if __name__ == \"__main__\":\n",
    "    #Se solicita el ingreso de las variables\n",
    "    base = int(input(\"Ingrese la base de la potencia: \")) #Solicitar el ingreso de la potencia\n",
    "    exponente = int(input(\"ingrese el valor del exponente: \"))\n",
    "    #Se llama la función\n",
    "    resultado = potencia (base,exponente)\n",
    "    #Imprimimos el resultado\n",
    "    print (\"la base \"+str(base)+\" elevada al exponente \"+str(exponente)+\" da como resultado \"+str(resultado)+\"\")"
   ]
  },
  {
   "cell_type": "code",
   "execution_count": 25,
   "metadata": {},
   "outputs": [
    {
     "name": "stdout",
     "output_type": "stream",
     "text": [
      "La serie de Fibonacci hasta 45 es 1836311903\n",
      "La serie de Fibonacci calculada por el metodo iterativo se demoró: 0.0\n",
      "La serie de Fibonacci hasta 45 es 1836311903\n",
      "La serie de Fibonacci calculada por el metodo recursivo se demoró: 0.0\n"
     ]
    }
   ],
   "source": [
    "import time #Se importa el módulo del tiempo\n",
    "# Se define la serie de Fibonacci mediante el mpetodo iterativo\n",
    "def fibo(n : int )-> int:\n",
    "  i : int = 1\n",
    "  # caso base\n",
    "  n1 : int = 0\n",
    "  n2 : int = 1\n",
    "  while(i <= n):\n",
    "    # Condicion\n",
    "    sumFibo = n1 + n2\n",
    "    # Actualizacion\n",
    "    n1 = n2\n",
    "    n2 = sumFibo\n",
    "    i += 1\n",
    "  return sumFibo\n",
    "\n",
    "#Se llaman las funciones, se solicita el ingreso de las variable y se importa el tiempo que tarda en realizar la función\n",
    "if __name__ == \"__main__\":\n",
    "  num = int(input(\"Ingrese numero: \"))\n",
    "  start_time1 = time.time()\n",
    "  serieFibo = fibo(num)\n",
    "  end_time1 = time.time()\n",
    "  timer1 = end_time1 - start_time1\n",
    "  print(\"La serie de Fibonacci hasta \" + str(num) + \" es \" + str(serieFibo))\n",
    "  print(\"La serie de Fibonacci calculada por el metodo iterativo se demoró: \"+str(timer1)+\"\")\n",
    "\n",
    "# Se define la serie de Fibonacci mediante el mpetodo recursivo  \n",
    "def fiboRecursivo(n : int )-> int:\n",
    "  if n <=1:\n",
    "    # caso base\n",
    "    return 1\n",
    "  else:\n",
    "    # condicion\n",
    "    return fiboRecursivo(n-1)+fiboRecursivo(n-2)  \n",
    "\n",
    "#Se llaman las funciones, se solicita el ingreso de las variable y se importa el tiempo que tarda en realizar la función\n",
    "\n",
    "if __name__ == \"__main__\":\n",
    "  num = int(input(\"Ingrese numero: \"))\n",
    "  start_time2 = time.time()\n",
    "  serieFibo = fibo(num)\n",
    "  end_time2 = time.time()\n",
    "  timer2 = end_time2 - start_time2\n",
    "  print(\"La serie de Fibonacci hasta \" + str(num) + \" es \" + str(serieFibo))\n",
    "  print(\"La serie de Fibonacci calculada por el metodo recursivo se demoró: \"+str(timer2)+\"\")"
   ]
  },
  {
   "cell_type": "code",
   "execution_count": 26,
   "metadata": {},
   "outputs": [
    {
     "name": "stdout",
     "output_type": "stream",
     "text": [
      "Las vueltas correspondientes al mandado son de 30900.0 pesos\n"
     ]
    }
   ],
   "source": [
    "#Definimos las variables como argumentos\n",
    "def cantidadVueltas(*args) -> float:\n",
    "    return B - (P*300 + M*3300 + H*350)\n",
    "\n",
    "if __name__ == \"__main__\":\n",
    "  #Solicitamos el ingreso de las variables\n",
    "  P = int(input(\"Ingrese la cantidad de panes:\"))\n",
    "  M = int(input(\"Ingrese la cantidad de leche:\"))\n",
    "  H = int(input(\"Ingrese la cantidad de huevos:\"))\n",
    "  B = float(input(\"Ingrese el valor del billete usado para pagar en pesos :\"))\n",
    "  #Llamamos la función\n",
    "  Vueltas = cantidadVueltas(P, M, H, B)\n",
    "  #Imprimimos el resultado\n",
    "  print(\"Las vueltas correspondientes al mandado son de \"+ str(Vueltas)+\" pesos\")"
   ]
  },
  {
   "cell_type": "code",
   "execution_count": 35,
   "metadata": {},
   "outputs": [
    {
     "name": "stdout",
     "output_type": "stream",
     "text": [
      "El resultado de 4 elevado a la 56 es 9834496\n"
     ]
    }
   ],
   "source": [
    "def potenciaNumero(*args) -> float:\n",
    "  potencia = 1 #Inicialzar el ciclo\n",
    "  for y in range(args[0]): #Determinar el rango\n",
    "    potencia *= args[1] #Actualizar el ciclo\n",
    "  return potencia\n",
    "\n",
    "if __name__ == \"__main__\":\n",
    " x = int(input(\"Ingrese numero natural: \")) #Solicitar el ingreso de la base\n",
    " n = int(input(\"Ingrese numero natural: \")) #Solicitar el ingreso del exponenete\n",
    " potencia = potenciaNumero(x,n) #Se llama la función\n",
    " print(\"El resultado de \"+str(x)+\" elevado a la \"+str(n)+\" es \"+str(potencia)+\"\") #Imprimir el resultado"
   ]
  },
  {
   "cell_type": "code",
   "execution_count": 39,
   "metadata": {},
   "outputs": [
    {
     "name": "stdout",
     "output_type": "stream",
     "text": [
      "El factorial del número 7 es 5040\n"
     ]
    }
   ],
   "source": [
    "#Definimos las variables como argumentos\n",
    "def factorialNumero(*args) -> float:\n",
    " x : int = 1 #Inicializar la lista\n",
    " for y in range (1,(args[0]+1)): #Indicar el rango de la lista\n",
    "    x *= y #Actualizar las variables\n",
    " return x\n",
    "\n",
    "if __name__ == \"__main__\":\n",
    " n = int(input(\"Ingrese número: \")) #Ingresar el fin del rango\n",
    " x = factorialNumero(n) #Llamamos la función definida anteriormente\n",
    " print (\"El factorial del número \"+str(n)+\" es \"+str(x)+\"\") #Imprimir el resultado finalmente"
   ]
  }
 ],
 "metadata": {
  "kernelspec": {
   "display_name": "Python 3",
   "language": "python",
   "name": "python3"
  },
  "language_info": {
   "codemirror_mode": {
    "name": "ipython",
    "version": 3
   },
   "file_extension": ".py",
   "mimetype": "text/x-python",
   "name": "python",
   "nbconvert_exporter": "python",
   "pygments_lexer": "ipython3",
   "version": "3.7.9"
  },
  "orig_nbformat": 4
 },
 "nbformat": 4,
 "nbformat_minor": 2
}
